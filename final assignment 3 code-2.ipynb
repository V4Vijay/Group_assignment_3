{
 "cells": [
  {
   "cell_type": "code",
   "execution_count": 1,
   "metadata": {},
   "outputs": [
    {
     "name": "stdout",
     "output_type": "stream",
     "text": [
      "enter x1:1\n",
      "enter y1:3\n",
      "enter x2:10\n",
      "enter y2:6\n",
      "enter x:4\n",
      "enter y:4\n",
      "true\n"
     ]
    }
   ],
   "source": [
    "#Q1\n",
    "x1=input(\"enter x1:\")\n",
    "y1=input(\"enter y1:\")\n",
    "x2=input(\"enter x2:\")\n",
    "y2=input(\"enter y2:\")\n",
    "x=input(\"enter x:\")\n",
    "y=input(\"enter y:\")\n",
    "if(x1<x<x2) and (y1<y<y2):\n",
    "    print(\"true\")\n",
    "else:\n",
    "    print(\"false\")"
   ]
  },
  {
   "cell_type": "code",
   "execution_count": 1,
   "metadata": {},
   "outputs": [
    {
     "name": "stdout",
     "output_type": "stream",
     "text": [
      "['Rzewski', 'Ruggles', 'Carter', 'Stockhausen', 'Stravinsky']\n",
      "Stockhausen\n",
      "Stravinsky\n"
     ]
    }
   ],
   "source": [
    "#Q2\n",
    "composer=['Rzewski', 'Ruggles', 'Carter', 'Stockhausen', 'Stravinsky']\n",
    "print(composer)\n",
    "for name in composer:\n",
    "    if len(name)>=10:\n",
    "        print(name)"
   ]
  },
  {
   "cell_type": "code",
   "execution_count": 2,
   "metadata": {},
   "outputs": [
    {
     "name": "stdout",
     "output_type": "stream",
     "text": [
      "['Antheil', 'Elgar', 'Saint-Saens', 'Chadwick', 'Coleridge-Taylor', 'Parker', 'Castelnuovo-Tedesco']\n",
      "Antheil\n",
      "Elgar\n",
      "Chadwick\n",
      "Parker\n"
     ]
    }
   ],
   "source": [
    "#Q3\n",
    "composers=['Antheil', 'Elgar', 'Saint-Saens', 'Chadwick', 'Coleridge-Taylor', 'Parker', 'Castelnuovo-Tedesco']\n",
    "print(composers)\n",
    "for name in composers:\n",
    "    if '' or '-' not in name:\n",
    "        print(name)"
   ]
  },
  {
   "cell_type": "code",
   "execution_count": 3,
   "metadata": {},
   "outputs": [],
   "source": [
    "#Q4\n",
    "vowels=['a','e','i','o','u']\n",
    "def pig(name):\n",
    "    name=name.lower()\n",
    "    if name[0] in vowels:\n",
    "        name=name+\"way\"#no methods used because strings are immutable.\n",
    "    else:\n",
    "        name=name[1:]+name[0]+\"ay\"#no methods used because strings are immutable.\n",
    "    return name"
   ]
  },
  {
   "cell_type": "code",
   "execution_count": 4,
   "metadata": {},
   "outputs": [
    {
     "data": {
      "text/plain": [
       "'appyhay'"
      ]
     },
     "execution_count": 4,
     "metadata": {},
     "output_type": "execute_result"
    }
   ],
   "source": [
    "pig(\"happy\")"
   ]
  },
  {
   "cell_type": "code",
   "execution_count": 5,
   "metadata": {},
   "outputs": [
    {
     "data": {
      "text/plain": [
       "'appyway'"
      ]
     },
     "execution_count": 5,
     "metadata": {},
     "output_type": "execute_result"
    }
   ],
   "source": [
    "pig(\"appy\")"
   ]
  },
  {
   "cell_type": "code",
   "execution_count": 6,
   "metadata": {},
   "outputs": [
    {
     "data": {
      "text/plain": [
       "'enterway'"
      ]
     },
     "execution_count": 6,
     "metadata": {},
     "output_type": "execute_result"
    }
   ],
   "source": [
    "pig('Enter')"
   ]
  },
  {
   "cell_type": "code",
   "execution_count": 7,
   "metadata": {},
   "outputs": [],
   "source": [
    "#Q5\n",
    "def date(weekday,month,day,year):\n",
    "    print(\"'{0}, {1} {2}, {3}'\".format(weekday[:3],month[:3],day,year))"
   ]
  },
  {
   "cell_type": "code",
   "execution_count": 8,
   "metadata": {},
   "outputs": [
    {
     "name": "stdout",
     "output_type": "stream",
     "text": [
      "'Tue, Oct 20, 2014'\n"
     ]
    }
   ],
   "source": [
    "date('Tuesday', 'October', 20, 2014)"
   ]
  },
  {
   "cell_type": "code",
   "execution_count": 9,
   "metadata": {},
   "outputs": [
    {
     "name": "stdout",
     "output_type": "stream",
     "text": [
      "Sensible Party                     29412     49.98%\n",
      "Silly Party                        29397     49.96%\n",
      "Very Silly Party                      37      0.06%\n"
     ]
    }
   ],
   "source": [
    "#Q6\n",
    "def electionResults(lst1,lst2):\n",
    "    length=len(lst1)\n",
    "    total_votes=sum(lst2)\n",
    "    for i in range(length):\n",
    "        percent=round(100*lst2[i]/total_votes,2)\n",
    "        party_name= lst1[i]+' '+'Party'\n",
    "        print('{:30}{:10}{:10}%'.format(party_name, lst2[i], percent))\n",
    "electionResults(['Sensible', 'Silly', 'Very Silly'], [29412, 29397, 37])"
   ]
  },
  {
   "cell_type": "code",
   "execution_count": 10,
   "metadata": {},
   "outputs": [],
   "source": [
    "#Q7\n",
    "def countWord(name,special):\n",
    "    count=0 \n",
    "    file=open(name)\n",
    "    for line in file:\n",
    "        words=line.split(\" \")\n",
    "        for word in words:\n",
    "            if word == special:\n",
    "                count=count+1\n",
    "    return count"
   ]
  },
  {
   "cell_type": "code",
   "execution_count": 11,
   "metadata": {},
   "outputs": [
    {
     "data": {
      "text/plain": [
       "1"
      ]
     },
     "execution_count": 11,
     "metadata": {},
     "output_type": "execute_result"
    }
   ],
   "source": [
    "countWord('gettysburg.txt','seven')"
   ]
  },
  {
   "cell_type": "code",
   "execution_count": 12,
   "metadata": {},
   "outputs": [],
   "source": [
    "#Q8\n",
    "def bldcount(name):\n",
    "    file=open(name)\n",
    "    t=file.read()\n",
    "    print(\"total patients equal to\",len(t.split(\" \")))\n",
    "    print(t)\n",
    "    blood_type=['A','B','AB','O','OO']\n",
    "    for blood in blood_type:\n",
    "        count=0\n",
    "        for word in t.split(\" \"):#problem as it picks up an individual character if only \"t\" used.\n",
    "            if blood==word:\n",
    "                    count=count+1\n",
    "                    \n",
    "        if count==1:\n",
    "            print(\"There is one patient of blood type {0}\".format(blood))\n",
    "        elif count==0:\n",
    "            print(\"There are no patients of blood type {0}\".format(blood))\n",
    "        else:\n",
    "            print(\"There are {0} patients of blood type {1}.\".format(count,blood))\n",
    "            "
   ]
  },
  {
   "cell_type": "code",
   "execution_count": 13,
   "metadata": {},
   "outputs": [
    {
     "name": "stdout",
     "output_type": "stream",
     "text": [
      "total patients equal to 45\n",
      "AB AB B O A A AB O AB A O O A A A O O O AB O A A A A A AB AB A AB O AB O A O O O AB O AB AB AB A A O \n",
      "\n",
      "There are 15 patients of blood type A.\n",
      "There is one patient of blood type B\n",
      "There are 13 patients of blood type AB.\n",
      "There are 15 patients of blood type O.\n",
      "There are no patients of blood type OO\n"
     ]
    }
   ],
   "source": [
    "bldcount('bloodtype1.txt')"
   ]
  },
  {
   "cell_type": "code",
   "execution_count": 14,
   "metadata": {},
   "outputs": [],
   "source": [
    "#Q9\n",
    "def logfile(name):\n",
    "    file=open(name,'r')\n",
    "    ls=list(file)\n",
    "    print(ls)\n",
    "    ls.append(\"Processing complete, ending program normally.\")\n",
    "    print(ls)"
   ]
  },
  {
   "cell_type": "code",
   "execution_count": 15,
   "metadata": {},
   "outputs": [
    {
     "name": "stdout",
     "output_type": "stream",
     "text": [
      "['Four score and seven years ago our fathers brought forth on this continent a\\n', 'new nation, conceived in liberty, and dedicated to the proposition that all\\n', 'men are created equal.\\n', '\\n', 'Now we are engaged in a great civil war, testing whether that nation, or any\\n', 'nation so conceived and so dedicated, can long endure. We are met on a great\\n', 'battle-field of that war. We have come to dedicate a portion of that field,\\n', 'as a final resting place for those who here gave their lives that that nation\\n', 'might live. It is altogether fitting and proper that we should do this.\\n', '\\n', 'But, in a larger sense, we can not dedicate, we can not consecrate, we can\\n', 'not hallow this ground. The brave men, living and dead, who struggled here,\\n', 'have consecrated it, far above our poor power to add or detract. The world\\n', 'will little note, nor long remember what we say here, but it can never forget\\n', 'what they did here. It is for us the living, rather, to be dedicated here to\\n', 'the unfinished work which they who fought here have thus far so nobly advanced.\\n', 'It is rather for us to be here dedicated to the great task remaining before\\n', 'us—that from these honored dead we take increased devotion to that cause for\\n', 'which they gave the last full measure of devotion—that we here highly resolve\\n', 'that these dead shall not have died in vain—that this nation, under God, shall\\n', 'have a new birth of freedom—and that government of the people, by the people,\\n', 'for the people, shall not perish from the earth.\\n']\n",
      "['Four score and seven years ago our fathers brought forth on this continent a\\n', 'new nation, conceived in liberty, and dedicated to the proposition that all\\n', 'men are created equal.\\n', '\\n', 'Now we are engaged in a great civil war, testing whether that nation, or any\\n', 'nation so conceived and so dedicated, can long endure. We are met on a great\\n', 'battle-field of that war. We have come to dedicate a portion of that field,\\n', 'as a final resting place for those who here gave their lives that that nation\\n', 'might live. It is altogether fitting and proper that we should do this.\\n', '\\n', 'But, in a larger sense, we can not dedicate, we can not consecrate, we can\\n', 'not hallow this ground. The brave men, living and dead, who struggled here,\\n', 'have consecrated it, far above our poor power to add or detract. The world\\n', 'will little note, nor long remember what we say here, but it can never forget\\n', 'what they did here. It is for us the living, rather, to be dedicated here to\\n', 'the unfinished work which they who fought here have thus far so nobly advanced.\\n', 'It is rather for us to be here dedicated to the great task remaining before\\n', 'us—that from these honored dead we take increased devotion to that cause for\\n', 'which they gave the last full measure of devotion—that we here highly resolve\\n', 'that these dead shall not have died in vain—that this nation, under God, shall\\n', 'have a new birth of freedom—and that government of the people, by the people,\\n', 'for the people, shall not perish from the earth.\\n', 'Processing complete, ending program normally.']\n"
     ]
    }
   ],
   "source": [
    "logfile('gettysburg.txt')"
   ]
  },
  {
   "cell_type": "code",
   "execution_count": 16,
   "metadata": {},
   "outputs": [],
   "source": [
    "#Q10\n",
    "def quote(special):\n",
    "    file=open(\"quotes.txt\")\n",
    "    for line in file:\n",
    "        for word in line.split(\" \"):\n",
    "            if word==special:\n",
    "                print(line)\n",
    "    "
   ]
  },
  {
   "cell_type": "code",
   "execution_count": 17,
   "metadata": {},
   "outputs": [
    {
     "name": "stdout",
     "output_type": "stream",
     "text": [
      "'Who will watch the watchmen.' Juvenal\n",
      "\n"
     ]
    }
   ],
   "source": [
    "quote('watch')"
   ]
  },
  {
   "cell_type": "code",
   "execution_count": 18,
   "metadata": {},
   "outputs": [],
   "source": [
    "#Q11\n",
    "def freq(name):\n",
    "    file=open(\"last.txt\")\n",
    "    for line in file:\n",
    "        words=line.split(\"\\t\")\n",
    "        if words[0].lower()==name.lower():\n",
    "            words[1]=float(words[1])\n",
    "            print(int(words[1]*(3*10**8)))\n",
    "      "
   ]
  },
  {
   "cell_type": "code",
   "execution_count": 19,
   "metadata": {},
   "outputs": [
    {
     "name": "stdout",
     "output_type": "stream",
     "text": [
      "264255000\n"
     ]
    }
   ],
   "source": [
    "freq(\"Smith\")#to be corrected."
   ]
  },
  {
   "cell_type": "code",
   "execution_count": 20,
   "metadata": {},
   "outputs": [],
   "source": [
    "#Q12\n",
    "def curconv(currency,amount):\n",
    "    file=open(\"currencies.txt\")\n",
    "    for line in file:\n",
    "        words=line.split(\"\\t\")\n",
    "        if words[0]==currency:\n",
    "            words[1]=float(words[1])\n",
    "            print(words[1]*amount)\n",
    "    "
   ]
  },
  {
   "cell_type": "code",
   "execution_count": 21,
   "metadata": {},
   "outputs": [
    {
     "name": "stdout",
     "output_type": "stream",
     "text": [
      "122.96544\n"
     ]
    }
   ],
   "source": [
    "curconv(\"EUR\",100)"
   ]
  },
  {
   "cell_type": "code",
   "execution_count": 22,
   "metadata": {},
   "outputs": [
    {
     "ename": "TypeError",
     "evalue": "unsupported operand type(s) for +: 'int' and 'str'",
     "output_type": "error",
     "traceback": [
      "\u001b[0;31m---------------------------------------------------------------------------\u001b[0m",
      "\u001b[0;31mTypeError\u001b[0m                                 Traceback (most recent call last)",
      "\u001b[0;32m<ipython-input-22-bbddb519c8f5>\u001b[0m in \u001b[0;36m<module>\u001b[0;34m()\u001b[0m\n\u001b[1;32m      1\u001b[0m \u001b[0;31m#Q13\u001b[0m\u001b[0;34m\u001b[0m\u001b[0;34m\u001b[0m\u001b[0m\n\u001b[0;32m----> 2\u001b[0;31m \u001b[0;36m6\u001b[0m\u001b[0;34m+\u001b[0m\u001b[0;34m'a'\u001b[0m\u001b[0;34m\u001b[0m\u001b[0m\n\u001b[0m",
      "\u001b[0;31mTypeError\u001b[0m: unsupported operand type(s) for +: 'int' and 'str'"
     ]
    }
   ],
   "source": [
    "#Q13\n",
    "6+'a'"
   ]
  },
  {
   "cell_type": "code",
   "execution_count": 23,
   "metadata": {},
   "outputs": [
    {
     "ename": "IndexError",
     "evalue": "list index out of range",
     "output_type": "error",
     "traceback": [
      "\u001b[0;31m---------------------------------------------------------------------------\u001b[0m",
      "\u001b[0;31mIndexError\u001b[0m                                Traceback (most recent call last)",
      "\u001b[0;32m<ipython-input-23-43962ff26f43>\u001b[0m in \u001b[0;36m<module>\u001b[0;34m()\u001b[0m\n\u001b[1;32m      1\u001b[0m \u001b[0mlst\u001b[0m\u001b[0;34m=\u001b[0m\u001b[0;34m[\u001b[0m\u001b[0;36m1\u001b[0m\u001b[0;34m,\u001b[0m\u001b[0;36m2\u001b[0m\u001b[0;34m,\u001b[0m\u001b[0;36m3\u001b[0m\u001b[0;34m,\u001b[0m\u001b[0;36m4\u001b[0m\u001b[0;34m,\u001b[0m\u001b[0;36m5\u001b[0m\u001b[0;34m,\u001b[0m\u001b[0;36m6\u001b[0m\u001b[0;34m,\u001b[0m\u001b[0;36m7\u001b[0m\u001b[0;34m,\u001b[0m\u001b[0;36m8\u001b[0m\u001b[0;34m,\u001b[0m\u001b[0;36m9\u001b[0m\u001b[0;34m,\u001b[0m\u001b[0;36m90\u001b[0m\u001b[0;34m]\u001b[0m\u001b[0;34m\u001b[0m\u001b[0m\n\u001b[0;32m----> 2\u001b[0;31m \u001b[0mlst\u001b[0m\u001b[0;34m[\u001b[0m\u001b[0;36m12\u001b[0m\u001b[0;34m]\u001b[0m\u001b[0;34m\u001b[0m\u001b[0m\n\u001b[0m",
      "\u001b[0;31mIndexError\u001b[0m: list index out of range"
     ]
    }
   ],
   "source": [
    "lst=[1,2,3,4,5,6,7,8,9,90]\n",
    "lst[12]"
   ]
  },
  {
   "cell_type": "code",
   "execution_count": 24,
   "metadata": {},
   "outputs": [
    {
     "ename": "ValueError",
     "evalue": "math domain error",
     "output_type": "error",
     "traceback": [
      "\u001b[0;31m---------------------------------------------------------------------------\u001b[0m",
      "\u001b[0;31mValueError\u001b[0m                                Traceback (most recent call last)",
      "\u001b[0;32m<ipython-input-24-d39e523296ce>\u001b[0m in \u001b[0;36m<module>\u001b[0;34m()\u001b[0m\n\u001b[1;32m      1\u001b[0m \u001b[0;32mimport\u001b[0m \u001b[0mmath\u001b[0m\u001b[0;34m\u001b[0m\u001b[0m\n\u001b[0;32m----> 2\u001b[0;31m \u001b[0mmath\u001b[0m\u001b[0;34m.\u001b[0m\u001b[0msqrt\u001b[0m\u001b[0;34m(\u001b[0m\u001b[0;34m-\u001b[0m\u001b[0;36m1.0\u001b[0m\u001b[0;34m)\u001b[0m\u001b[0;34m\u001b[0m\u001b[0m\n\u001b[0m",
      "\u001b[0;31mValueError\u001b[0m: math domain error"
     ]
    }
   ],
   "source": [
    "import math\n",
    "math.sqrt(-1.0)"
   ]
  },
  {
   "cell_type": "code",
   "execution_count": 25,
   "metadata": {},
   "outputs": [
    {
     "ename": "NameError",
     "evalue": "name 'x' is not defined",
     "output_type": "error",
     "traceback": [
      "\u001b[0;31m---------------------------------------------------------------------------\u001b[0m",
      "\u001b[0;31mNameError\u001b[0m                                 Traceback (most recent call last)",
      "\u001b[0;32m<ipython-input-25-fc17d851ef81>\u001b[0m in \u001b[0;36m<module>\u001b[0;34m()\u001b[0m\n\u001b[0;32m----> 1\u001b[0;31m \u001b[0mprint\u001b[0m\u001b[0;34m(\u001b[0m\u001b[0mx\u001b[0m\u001b[0;34m)\u001b[0m\u001b[0;34m\u001b[0m\u001b[0m\n\u001b[0m",
      "\u001b[0;31mNameError\u001b[0m: name 'x' is not defined"
     ]
    }
   ],
   "source": [
    "print(x)"
   ]
  },
  {
   "cell_type": "code",
   "execution_count": 26,
   "metadata": {},
   "outputs": [
    {
     "name": "stdout",
     "output_type": "stream",
     "text": [
      "enter the file name as a string23\n"
     ]
    },
    {
     "ename": "FileNotFoundError",
     "evalue": "[Errno 2] No such file or directory: '23'",
     "output_type": "error",
     "traceback": [
      "\u001b[0;31m---------------------------------------------------------------------------\u001b[0m",
      "\u001b[0;31mFileNotFoundError\u001b[0m                         Traceback (most recent call last)",
      "\u001b[0;32m<ipython-input-26-ca453e49c8ff>\u001b[0m in \u001b[0;36m<module>\u001b[0;34m()\u001b[0m\n\u001b[1;32m      1\u001b[0m \u001b[0mname\u001b[0m\u001b[0;34m=\u001b[0m\u001b[0minput\u001b[0m\u001b[0;34m(\u001b[0m\u001b[0;34m\"enter the file name as a string\"\u001b[0m\u001b[0;34m)\u001b[0m\u001b[0;34m\u001b[0m\u001b[0m\n\u001b[0;32m----> 2\u001b[0;31m \u001b[0mfile\u001b[0m\u001b[0;34m=\u001b[0m\u001b[0mopen\u001b[0m\u001b[0;34m(\u001b[0m\u001b[0mname\u001b[0m\u001b[0;34m)\u001b[0m\u001b[0;34m\u001b[0m\u001b[0m\n\u001b[0m",
      "\u001b[0;31mFileNotFoundError\u001b[0m: [Errno 2] No such file or directory: '23'"
     ]
    }
   ],
   "source": [
    "name=input(\"enter the file name as a string\")\n",
    "file=open(name)"
   ]
  },
  {
   "cell_type": "code",
   "execution_count": 27,
   "metadata": {},
   "outputs": [],
   "source": [
    "#Q14\n",
    "def clean(name):\n",
    "    \n",
    "    file1=open('stop.txt')\n",
    "    inp1=file1.read()\n",
    "    lst=list(inp1.split(\"\\n\"))#sofar cool\n",
    "    \n",
    "    s=\" \"#string to write required text into\n",
    "    \n",
    "    #opening the input file\n",
    "    file=open(name)\n",
    "    for line in file:\n",
    "        words=line.split(\" \")\n",
    "        for word in words:\n",
    "            word.strip()\n",
    "            if word.lower() in lst:\n",
    "                continue\n",
    "            else:\n",
    "                s=s +\" \"+ word\n",
    "#defining a file and opening it in write mode.\n",
    "    print(s)\n",
    "    file2=open(\"Words.txt\",'w')\n",
    "    file2.write(s)\n",
    "    file2.close()"
   ]
  },
  {
   "cell_type": "code",
   "execution_count": 28,
   "metadata": {},
   "outputs": [
    {
     "name": "stdout",
     "output_type": "stream",
     "text": [
      "  little sincerity dangerous thing, great deal absolutely fatal.\n",
      " Always forgive enemies; nothing annoys much.\n",
      " America country went barbarism decadence without civilization between.\n",
      " Anyone lives means suffers lack imagination.\n",
      " Arguments avoided; always vulgar often convincing.\n",
      " twilight, nature not without loveliness, though perhaps its chief use illustrate quotations poets.\n",
      " Consistency last refuge unimaginative.\n",
      " Fashion form ugliness intolerable alter every six months.\n",
      " Genius born--not paid.\n",
      " always know everything new friends, nothing old ones.\n",
      " not young enough know everything.\n",
      " think God creating Man somewhat overestimated ability.\n",
      " working proof poems morning, took comma. afternoon put back again.\n",
      " tell people truth, make laugh, otherwise they'll kill you.\n",
      " Illusion first pleasures.\n",
      " very sad thing nowadays little useless information.\n",
      " always silly thing give advice, give good advice fatal.\n",
      " Morality, art, means drawing line someplace.\n",
      " Most modern calendars mar sweet simplicity our lives reminding us each day passes anniversary perfectly uninteresting event.\n",
      " Most people people. thoughts someone elses opinions, lives mimicry, passions quotation.\n",
      " Music makes feel romantic - least always gets one's nerves - same thing nowadays.\n",
      " survive everything, nowadays, except death, live down everything except good reputation.\n",
      " always play fairly winning cards.\n",
      " Patriotism virtue vicious. \n",
      "\n"
     ]
    }
   ],
   "source": [
    "clean('Wilde_Quotes.txt')"
   ]
  },
  {
   "cell_type": "code",
   "execution_count": 29,
   "metadata": {},
   "outputs": [],
   "source": [
    "#Q15\n",
    "def quote(name,i):\n",
    "    file=open(name)\n",
    "    lst=[]\n",
    "    file.read()\n",
    "    file.close()\n",
    "    file=open(name)#opening a file again because no operation cant be performed on closed file.\n",
    "    for line in file:\n",
    "        lst.append(line)\n",
    "    print(lst[i])"
   ]
  },
  {
   "cell_type": "code",
   "execution_count": 30,
   "metadata": {},
   "outputs": [
    {
     "name": "stdout",
     "output_type": "stream",
     "text": [
      "Patriotism is the virtue of the vicious. \n",
      "\n"
     ]
    }
   ],
   "source": [
    "quote(\"Wilde_Quotes.txt\",23)"
   ]
  },
  {
   "cell_type": "code",
   "execution_count": null,
   "metadata": {},
   "outputs": [],
   "source": [
    "\n",
    "\n"
   ]
  }
 ],
 "metadata": {
  "kernelspec": {
   "display_name": "Python 2",
   "language": "python",
   "name": "python2"
  },
  "language_info": {
   "codemirror_mode": {
    "name": "ipython",
    "version": 2
   },
   "file_extension": ".py",
   "mimetype": "text/x-python",
   "name": "python",
   "nbconvert_exporter": "python",
   "pygments_lexer": "ipython2",
   "version": "2.7.16"
  }
 },
 "nbformat": 4,
 "nbformat_minor": 2
}
